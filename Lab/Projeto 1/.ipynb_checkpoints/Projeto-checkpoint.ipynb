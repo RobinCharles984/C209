{
 "cells": [
  {
   "cell_type": "markdown",
   "id": "a826163f-1adc-4805-baf2-2e0ea9f7b96b",
   "metadata": {},
   "source": [
    "1. Importando bibliotecas (não esquecer de instalá-las com pip intall)"
   ]
  },
  {
   "cell_type": "code",
   "execution_count": null,
   "id": "9e8f0f58-caa9-47e1-b876-14b3b659f1f1",
   "metadata": {},
   "outputs": [],
   "source": [
    "import matplotlib.pyplot as plt\n",
    "import numpy as np\n",
    "from PIL import Image"
   ]
  },
  {
   "cell_type": "markdown",
   "id": "8f25c0aa-1121-471d-a25c-e3f8d00e6d5f",
   "metadata": {},
   "source": [
    "2. Carregando e mostrando imagens"
   ]
  },
  {
   "cell_type": "code",
   "execution_count": null,
   "id": "ddac1415-2ee0-4b6b-ae07-02ea38ee11ba",
   "metadata": {},
   "outputs": [],
   "source": [
    "img_p1 = np.array(Image.open('P1.png')) \n",
    "img_p2 = np.array(Image.open('P2.png'))\n",
    "img_p3 = np.array(Image.open('P3.jpg'))\n",
    "img_p4 = np.array(Image.open('P4.png'))\n",
    "\n",
    "print(img_p1.shape)\n",
    "print(img_p2.shape)\n",
    "print(img_p3.shape)\n",
    "print(img_p4.shape)\n",
    "\n",
    "plt.figure(figsize=(8,8))\n",
    "plt.subplot(2,2,1)\n",
    "plt.title('Pinguim 1')\n",
    "plt.imshow(img_p1)\n",
    "plt.subplot(2,2,2)\n",
    "plt.title('Pinguim 2')\n",
    "plt.imshow(img_p2)\n",
    "plt.title('Pinguim 3')\n",
    "plt.imshow(img_p3)\n",
    "plt.subplot(2,1,1)\n",
    "plt.title('Pinguim 4')\n",
    "plt.imshow(img_p4)\n",
    "plt.subplot(2,1,2)"
   ]
  },
  {
   "cell_type": "markdown",
   "id": "7550b376-d594-4c5c-a676-2643115f460a",
   "metadata": {},
   "source": [
    "3. Juntando todas as imagens em uma só"
   ]
  },
  {
   "cell_type": "code",
   "execution_count": null,
   "id": "58a7047e-64f6-4f9d-90c7-9ca848d617b0",
   "metadata": {},
   "outputs": [],
   "source": [
    "img_and = np.bitwise_and(img_p1, img_p2, img_p3, img_p4)\n",
    "\n",
    "plt.title('Imagens Juntas')\n",
    "plt.imshow(img_and)"
   ]
  },
  {
   "cell_type": "markdown",
   "id": "a308d970-c726-4a6c-b125-6812b6fd4b77",
   "metadata": {},
   "source": [
    "4. Trocando as cores das imagens de RBG para CMY"
   ]
  },
  {
   "cell_type": "code",
   "execution_count": 1,
   "id": "8577f417-87bc-47f1-b46a-ac16927561e2",
   "metadata": {},
   "outputs": [
    {
     "ename": "NameError",
     "evalue": "name 'img_p1' is not defined",
     "output_type": "error",
     "traceback": [
      "\u001b[1;31m---------------------------------------------------------------------------\u001b[0m",
      "\u001b[1;31mNameError\u001b[0m                                 Traceback (most recent call last)",
      "Cell \u001b[1;32mIn[1], line 16\u001b[0m\n\u001b[0;32m     13\u001b[0m     img_save \u001b[38;5;241m=\u001b[39m img_cmy\n\u001b[0;32m     14\u001b[0m     \u001b[38;5;28;01mreturn\u001b[39;00m img_cmy\n\u001b[1;32m---> 16\u001b[0m img_p1_cmy \u001b[38;5;241m=\u001b[39m rgb_cmy(\u001b[43mimg_p1\u001b[49m)\n\u001b[0;32m     17\u001b[0m img_p2_cmy \u001b[38;5;241m=\u001b[39m rgb_cmy(img_p2)\n\u001b[0;32m     18\u001b[0m img_p3_cmy \u001b[38;5;241m=\u001b[39m rgb_cmy(img_p3)\n",
      "\u001b[1;31mNameError\u001b[0m: name 'img_p1' is not defined"
     ]
    }
   ],
   "source": [
    "img_save = None\n",
    "def rgb_cmy(img_rgb):\n",
    "    img_cmy = np.zeros(shape=img_rgb.shape, dtype=np.float64)\n",
    "    for i in range(l):\n",
    "        for j in range(c):\n",
    "            r = img_rgb[i, j, 0]\n",
    "            g = img_rgb[i, j, 1]\n",
    "            b = img_rgb[i, j, 2]\n",
    "            \n",
    "            img_cmy[i, j, 0] = (255 - r) / 255 # C\n",
    "            img_cmy[i, j, 1] = (255 - g) / 255 # M\n",
    "            img_cmy[i, j, 2] = (255 - b) / 255 # Y\n",
    "            \n",
    "    img_save = img_cmy\n",
    "    return img_cmy\n",
    "\n",
    "img_p1_cmy = rgb_cmy(img_p1)\n",
    "img_p2_cmy = rgb_cmy(img_p2)\n",
    "img_p3_cmy = rgb_cmy(img_p1)\n",
    "img_p4_cmy = rgb_cmy(img_p1)\n",
    "\n",
    "print(img_p1.shape)\n",
    "print(img_p2.shape)\n",
    "print(img_p3.shape)\n",
    "print(img_p4.shape)\n",
    "\n",
    "plt.figure(figsize=(8,8))\n",
    "plt.subplot(2,2,1)\n",
    "plt.title('Pinguim 1')\n",
    "plt.imshow(img_p1_cmy)\n",
    "plt.subplot(2,2,2)\n",
    "plt.title('Pinguim 2')\n",
    "plt.imshow(img_p2_cmy)\n",
    "plt.title('Pinguim 3')\n",
    "plt.imshow(img_p3_cmy)\n",
    "plt.subplot(2,1,1)\n",
    "plt.title('Pinguim 4')\n",
    "plt.imshow(img_p4_cmy)\n",
    "plt.subplot(2,1,2)"
   ]
  },
  {
   "cell_type": "markdown",
   "id": "7ed0989d-294f-4634-ac69-c46ab1d9f498",
   "metadata": {},
   "source": [
    "5. Espelhando as imagens"
   ]
  },
  {
   "cell_type": "code",
   "execution_count": null,
   "id": "b5f8c65e-05f5-4973-be03-4572d416d002",
   "metadata": {},
   "outputs": [],
   "source": [
    "img_p1_espelhada = np.zeros(shape=img_techno.shape, dtype=np.uint8)\n",
    "img_p2_espelhada = np.zeros(shape=img_techno.shape, dtype=np.uint8)\n",
    "img_p3_espelhada = np.zeros(shape=img_techno.shape, dtype=np.uint8)\n",
    "img_p4_espelhada = np.zeros(shape=img_techno.shape, dtype=np.uint8)\n",
    "for i in range(l):\n",
    "    for j in range(c):\n",
    "        new_x = -j\n",
    "        new_y = i\n",
    "        img_p1_espelhada[new_y, new_x] = img_p1[i, j]\n",
    "        img_p2_espelhada[new_y, new_x] = img_p2[i, j]\n",
    "        img_p3_espelhada[new_y, new_x] = img_p3[i, j]\n",
    "        img_p4_espelhada[new_y, new_x] = img_p4[i, j]\n",
    "\n",
    "plt.imshow(refl)\n",
    "\n",
    "print(img_p1.shape)\n",
    "print(img_p2.shape)\n",
    "print(img_p3.shape)\n",
    "print(img_p4.shape)\n",
    "\n",
    "plt.figure(figsize=(8,8))\n",
    "plt.subplot(2,2,1)\n",
    "plt.title('Pinguim 1')\n",
    "plt.imshow(img_p1_espelhada)\n",
    "plt.subplot(2,2,2)\n",
    "plt.title('Pinguim 2')\n",
    "plt.imshow(img_p2_espelhada)\n",
    "plt.title('Pinguim 3')\n",
    "plt.imshow(img_p3_espelhada)\n",
    "plt.subplot(2,1,1)\n",
    "plt.title('Pinguim 4')\n",
    "plt.imshow(img_p4_espelhada)\n",
    "plt.subplot(2,1,2)"
   ]
  },
  {
   "cell_type": "markdown",
   "id": "d16b5cca-7cda-4194-9ab1-e2a0c3a695fa",
   "metadata": {},
   "source": [
    "6. Recortando uma das imagens"
   ]
  },
  {
   "cell_type": "code",
   "execution_count": null,
   "id": "eed7d444-1f41-4b8e-85af-ff71a1e12145",
   "metadata": {},
   "outputs": [],
   "source": [
    "img_p4 = img_p4[:, :, :3]\n",
    "\n",
    "def roberts_cross(img):\n",
    "    kernel_x = np.array([[1, 0], [ 0, -1]], dtype=np.float64)\n",
    "    kernel_y = np.array([[0, 1], [-1,  0]], dtype=np.float64)\n",
    "    \n",
    "    conv_x = conv(img, kernel_x)\n",
    "    conv_y = conv(img, kernel_y)\n",
    "    \n",
    "    gradient = np.hypot(conv_x, conv_y)\n",
    "    \n",
    "    return gradient\n",
    "\n",
    "img_p4_cut = roberts_cross(img_p4)\n",
    "plt.figure(figsize=(16, 16))\n",
    "plt.imshow(img_p4_cut)"
   ]
  },
  {
   "cell_type": "markdown",
   "id": "43e6bb87-431b-422e-9657-2ec30d0d9418",
   "metadata": {},
   "source": [
    "7. Realizando histograma e threshold de uma imagem"
   ]
  },
  {
   "cell_type": "code",
   "execution_count": null,
   "id": "9aaf2132-32d8-4ba1-bc8a-1e99d4dc0ba5",
   "metadata": {},
   "outputs": [],
   "source": [
    "def histogram_gray(img):\n",
    "    (l, c) = img.shape\n",
    "\n",
    "    histogram = np.zeros(256, dtype=np.int32)\n",
    "\n",
    "    for i in range(l):\n",
    "        for j in range(c):\n",
    "            intensity = img[i, j]\n",
    "            histogram[intensity] += 1\n",
    "            \n",
    "    return histogram\n",
    "\n",
    "def show_histogram(img):\n",
    "    histogram_r = histogram_gray(img[:, :, 0])\n",
    "    histogram_g = histogram_gray(img[:, :, 1])\n",
    "    histogram_b = histogram_gray(img[:, :, 2])\n",
    "    \n",
    "    plt.figure(figsize=(16, 16))\n",
    "    plt.subplot(2, 1, 1)\n",
    "    plt.imshow(img, cmap='gray', vmin=0, vmax=255)\n",
    "    plt.subplot(2, 1, 2)\n",
    "    plt.bar(range(256), histogram_r, color='red')\n",
    "    plt.bar(range(256), histogram_g, color='green')\n",
    "    plt.bar(range(256), histogram_b, color='blue')\n",
    "\n",
    "def show_histogram_gray(img):\n",
    "    histogram = histogram_gray(img)\n",
    "    plt.figure(figsize=(16, 16))\n",
    "    plt.subplot(2, 1, 1)\n",
    "    plt.imshow(img, cmap='gray', vmin=0, vmax=255)\n",
    "    plt.subplot(2, 1, 2)\n",
    "    plt.bar(range(256), histogram)\n",
    "\n",
    "show_histogram(img_p4)\n",
    "show_histogram_gray(img_p4)\n"
   ]
  },
  {
   "cell_type": "markdown",
   "id": "30338efd-5372-4161-a044-5dd2a28ab177",
   "metadata": {},
   "source": [
    "8. Mudando cor de fundo"
   ]
  },
  {
   "cell_type": "code",
   "execution_count": 2,
   "id": "c69dddb9-55e9-4675-9b63-0730510cbf8c",
   "metadata": {},
   "outputs": [
    {
     "ename": "NameError",
     "evalue": "name 'img_p4' is not defined",
     "output_type": "error",
     "traceback": [
      "\u001b[1;31m---------------------------------------------------------------------------\u001b[0m",
      "\u001b[1;31mNameError\u001b[0m                                 Traceback (most recent call last)",
      "Cell \u001b[1;32mIn[2], line 1\u001b[0m\n\u001b[1;32m----> 1\u001b[0m blue_mask \u001b[38;5;241m=\u001b[39m (\u001b[43mimg_p4\u001b[49m[:, :, \u001b[38;5;241m2\u001b[39m] \u001b[38;5;241m==\u001b[39m \u001b[38;5;241m255\u001b[39m)\n\u001b[0;32m      2\u001b[0m img_p4[blue_mask] \u001b[38;5;241m=\u001b[39m \u001b[38;5;241m255\u001b[39m\n",
      "\u001b[1;31mNameError\u001b[0m: name 'img_p4' is not defined"
     ]
    }
   ],
   "source": [
    "blue_mask = (img_p4[:, :, 2] == 255)\n",
    "img_p4[blue_mask] = 255\n",
    "\n",
    "\n",
    "plt.figure(figsize=(8, 8))\n",
    "plt.imshow(img_p4)"
   ]
  }
 ],
 "metadata": {
  "kernelspec": {
   "display_name": "Python 3 (ipykernel)",
   "language": "python",
   "name": "python3"
  },
  "language_info": {
   "codemirror_mode": {
    "name": "ipython",
    "version": 3
   },
   "file_extension": ".py",
   "mimetype": "text/x-python",
   "name": "python",
   "nbconvert_exporter": "python",
   "pygments_lexer": "ipython3",
   "version": "3.12.2"
  }
 },
 "nbformat": 4,
 "nbformat_minor": 5
}
